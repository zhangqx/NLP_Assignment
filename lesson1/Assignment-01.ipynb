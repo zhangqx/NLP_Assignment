{
 "cells": [
  {
   "cell_type": "markdown",
   "metadata": {},
   "source": [
    "## Lesson-01 Assignment"
   ]
  },
  {
   "cell_type": "markdown",
   "metadata": {},
   "source": [
    "## 基础理论部分"
   ]
  },
  {
   "cell_type": "markdown",
   "metadata": {},
   "source": [
    "#### 0. Can you come up out 3 sceneraies which use AI methods? "
   ]
  },
  {
   "cell_type": "markdown",
   "metadata": {},
   "source": [
    "Ans: 迪卡侬亚马逊的自助结账、各品牌智能音箱、火车站的刷脸进站等"
   ]
  },
  {
   "cell_type": "markdown",
   "metadata": {},
   "source": [
    "#### 1. How do we use Github; Why do we use Jupyter and Pycharm;"
   ]
  },
  {
   "cell_type": "markdown",
   "metadata": {},
   "source": [
    "Ans: 我们使用GitHub来同步代码和资料；Jupyter有利于保存代码执行过程中产生的各种状态，Pycharm是一个python的集成开发工具，方便大家对代码的编写和维护。"
   ]
  },
  {
   "cell_type": "markdown",
   "metadata": {},
   "source": [
    "#### 2. What's the Probability Model?"
   ]
  },
  {
   "cell_type": "markdown",
   "metadata": {},
   "source": [
    "Ans:指以概率论为基础，采用数学统计方法建立的模型，有些过程无法用理论分析方法导出其模型，但可通过试验测定数据，经过数理统计法求得各变量之间的函数关系。"
   ]
  },
  {
   "cell_type": "markdown",
   "metadata": {},
   "source": [
    "#### 3. Can you came up with some sceneraies at which we could use Probability Model?"
   ]
  },
  {
   "cell_type": "markdown",
   "metadata": {},
   "source": [
    "Ans:做线性回归、聚类、分类、判别分析等"
   ]
  },
  {
   "cell_type": "markdown",
   "metadata": {},
   "source": [
    "#### 4. Why do we use probability and what's the difficult points for programming based on parsing and pattern match?"
   ]
  },
  {
   "cell_type": "markdown",
   "metadata": {},
   "source": [
    "Ans:使用概率可以方便的判断出一个句子是否合理，我感觉困难点在于数据的预处理。"
   ]
  },
  {
   "cell_type": "markdown",
   "metadata": {},
   "source": [
    "#### 5. What's the Language Model;"
   ]
  },
  {
   "cell_type": "markdown",
   "metadata": {},
   "source": [
    "Ans:可以理解为一个字符串的概率分布模型，对字符串中的每一个字符给出对应的概率。"
   ]
  },
  {
   "cell_type": "markdown",
   "metadata": {},
   "source": [
    "#### 6. Can you came up with some sceneraies at which we could use Language Model?\n"
   ]
  },
  {
   "cell_type": "markdown",
   "metadata": {},
   "source": [
    "Ans:汉语分词、句法分析等等"
   ]
  },
  {
   "cell_type": "markdown",
   "metadata": {},
   "source": [
    "#### 7. What's the 1-gram language model;"
   ]
  },
  {
   "cell_type": "markdown",
   "metadata": {},
   "source": [
    "Ans:一元语法模型即模型中的每个词都独立于其它词。"
   ]
  },
  {
   "cell_type": "markdown",
   "metadata": {},
   "source": [
    "#### 8. What's the disadvantages and advantages of 1-gram language model;"
   ]
  },
  {
   "cell_type": "markdown",
   "metadata": {},
   "source": [
    "Ans:优点是生成简单，容易理解；缺点是没有考虑单词与单词之间的相互关系，不适合用来推断句子的合理性。"
   ]
  },
  {
   "cell_type": "markdown",
   "metadata": {},
   "source": [
    "#### 9. What't the 2-gram models;"
   ]
  },
  {
   "cell_type": "markdown",
   "metadata": {},
   "source": [
    "Ans:二元语法模型表示出现在某个位置的词只与它前面的一个词有关。"
   ]
  },
  {
   "cell_type": "markdown",
   "metadata": {},
   "source": [
    "## 编程实践部分"
   ]
  },
  {
   "cell_type": "markdown",
   "metadata": {},
   "source": [
    "1、引入相关模块"
   ]
  },
  {
   "cell_type": "code",
   "execution_count": 47,
   "metadata": {},
   "outputs": [],
   "source": [
    "%matplotlib inline\n",
    "import random\n",
    "import pandas as pd\n",
    "import re\n",
    "from collections import Counter\n",
    "import jieba\n",
    "from functools import reduce\n",
    "from operator import add, mul\n",
    "import matplotlib.pyplot as plt\n",
    "import numpy as np"
   ]
  },
  {
   "cell_type": "markdown",
   "metadata": {},
   "source": [
    "2、定义语法"
   ]
  },
  {
   "cell_type": "code",
   "execution_count": 54,
   "metadata": {},
   "outputs": [],
   "source": [
    "# 这个语法会生成一些不太合理的句子，用来准备接下来的判断\n",
    "customer = '''\n",
    "customer = 人称 时间 动作 形容 物品\n",
    "人称 = 我 | 他们 | 我们\n",
    "时间 = 今天 | 明天\n",
    "动作 = 看看 | 买点 | 试试\n",
    "形容 = 好看的 | 好喝的 | 宽松的\n",
    "物品 = 饮料 | 鞋子 | 衣服\n",
    "'''\n",
    "\n",
    "\n",
    "guide = '''\n",
    "guide = 招呼 报数 询问 商品 结尾 \n",
    "报数 = 我是导购 ,\n",
    "招呼 = 称谓 打招呼 | 打招呼\n",
    "称谓 = 人称 ,\n",
    "人称 = 先生 | 女士 | 小朋友\n",
    "打招呼 = 你好 | 您好 \n",
    "询问 = 请问你要 | 您需要\n",
    "商品 = 购买 具体业务\n",
    "购买 = 买点 | 喝点\n",
    "具体业务 = 啤酒 | 穿的 | 吃的 | 什么\n",
    "结尾 = 吗？\n",
    "'''\n"
   ]
  },
  {
   "cell_type": "markdown",
   "metadata": {},
   "source": [
    "3、定义生成句子的方法"
   ]
  },
  {
   "cell_type": "code",
   "execution_count": 55,
   "metadata": {},
   "outputs": [
    {
     "name": "stdout",
     "output_type": "stream",
     "text": [
      "我们明天试试宽松的饮料\n",
      "女士,您好我是导购,请问你要喝点穿的吗？\n"
     ]
    }
   ],
   "source": [
    "def create_grammer(grammar_str, split='=>', line_split='\\n'):\n",
    "    grammar = {}\n",
    "    for line in grammar_str.split(line_split):\n",
    "        if not line.strip(): continue\n",
    "        exp, stmt = line.split(split)\n",
    "        grammar[exp.strip()] = [s.split() for s in stmt.split('|')]\n",
    "    return grammar\n",
    "\n",
    "def generate(gram, target):\n",
    "    if target not in gram: return target\n",
    "    expaned = [generate(gram, t) for t in random.choice(gram[target])]\n",
    "    return ''.join([e for e in expaned if e != 'null'])\n",
    "\n",
    "customer_grammer = create_grammer(customer, split='=')\n",
    "sen1 = generate(gram=customer_grammer, target='customer')\n",
    "\n",
    "guide_grammer = create_grammer(guide, split='=')\n",
    "sen2 = generate(gram=guide_grammer, target='guide')\n",
    "print(sen1)\n",
    "print(sen2)"
   ]
  },
  {
   "cell_type": "markdown",
   "metadata": {},
   "source": [
    "4、导入豆瓣评论数据，进行分词，生成语法模型"
   ]
  },
  {
   "cell_type": "code",
   "execution_count": 57,
   "metadata": {},
   "outputs": [
    {
     "name": "stderr",
     "output_type": "stream",
     "text": [
      "/Users/zhangqingxuan/anaconda3/lib/python3.7/site-packages/IPython/core/interactiveshell.py:3049: DtypeWarning: Columns (0,4) have mixed types. Specify dtype option on import or set low_memory=False.\n",
      "  interactivity=interactivity, compiler=compiler, result=result)\n"
     ]
    },
    {
     "name": "stdout",
     "output_type": "stream",
     "text": [
      "评论数据长度： 261497\n",
      "文本处理进度： 0\n",
      "文本处理进度： 10000\n",
      "文本处理进度： 20000\n",
      "文本处理进度： 30000\n",
      "文本处理进度： 40000\n",
      "文本处理进度： 50000\n",
      "文本处理进度： 60000\n",
      "文本处理进度： 70000\n",
      "文本处理进度： 80000\n",
      "文本处理进度： 90000\n",
      "文本处理进度： 100000\n"
     ]
    },
    {
     "data": {
      "image/png": "[encoded data removed]",
      "text/plain": [
       "<Figure size 432x288 with 1 Axes>"
      ]
     },
     "metadata": {
      "needs_background": "light"
     },
     "output_type": "display_data"
    }
   ],
   "source": [
    "# 豆瓣评论数据集(在复现代码时，已经将数据集换为豆瓣评论的数据)\n",
    "filename = 'movie_comments.csv'\n",
    "content = pd.read_csv(filename, encoding='utf-8')\n",
    "content.head(2)\n",
    "\n",
    "comments = content['comment'].tolist()\n",
    "print('评论数据长度：', len(comments))\n",
    "\n",
    "def token(string):\n",
    "    return re.findall('\\w+', string)\n",
    "\n",
    "comments_clean = [''.join(token(str(a))) for a in comments]\n",
    "\n",
    "with open('comment_261k.txt', 'w') as f:\n",
    "    for a in comments_clean:\n",
    "        f.write(a + '\\n')\n",
    "        \n",
    "def cut(string):\n",
    "    return list(jieba.cut(string))\n",
    "\n",
    "TOKEN = []\n",
    "for i, line in enumerate(open('comment_261k.txt')):\n",
    "    if i % 10000 == 0: print('文本处理进度：', i)\n",
    "    if i > 100000: break\n",
    "    TOKEN += cut(line.strip('\\n'))\n",
    "    \n",
    "words_count = Counter(TOKEN)\n",
    "\n",
    "frequiences = [f for w, f in words_count.most_common(100)]\n",
    "x = [i for i in range(100)]\n",
    "plt.plot(x, frequiences)\n",
    "# plt.plot(x, np.log(frequiences))\n",
    "\n",
    "def prob_1(word):\n",
    "    return words_count[word] / len(TOKEN)\n",
    "\n",
    "TOKEN = [str(s) for s in TOKEN]\n",
    "\n",
    "TOKEN_2_GRAM = [''.join(TOKEN[i:i+2]) for i in range(len(TOKEN[:-2]))]\n",
    "\n",
    "words_count_2 = Counter(TOKEN_2_GRAM)\n",
    "\n",
    "def prob_2(word1, word2):\n",
    "    if word1 + word2 in words_count_2: \n",
    "        return words_count_2[word1 + word2] / len(TOKEN_2_GRAM)\n",
    "    else:\n",
    "        return 1 / len(TOKEN_2_GRAM)\n",
    "    \n",
    "def get_probablity(sentence):\n",
    "    words = cut(sentence)\n",
    "    sentence_prob = 1\n",
    "    \n",
    "    for i, word in enumerate(words[:-1]):\n",
    "        next_ = words[i+1]\n",
    "        probability = prob_2(word, next_)\n",
    "        sentence_prob *= probability\n",
    "    return sentence_prob\n"
   ]
  },
  {
   "cell_type": "markdown",
   "metadata": {},
   "source": [
    "5、生成句子，调用模型判断句字的合理程度，并找出最优的句子"
   ]
  },
  {
   "cell_type": "code",
   "execution_count": 58,
   "metadata": {},
   "outputs": [
    {
     "data": {
      "text/plain": [
       "['我今天看看好看的衣服', 1.2917995960233522e-26]"
      ]
     },
     "execution_count": 58,
     "metadata": {},
     "output_type": "execute_result"
    }
   ],
   "source": [
    "def generate_best(): # you code here\n",
    "    sentences = []\n",
    "    for sen in generate_n(10):\n",
    "        sentences.append([sen, get_probablity(sen)])\n",
    "        #print('sentence: {} with Prb: {}'.format(sen, get_probablity(sen)))\n",
    "    return sentences\n",
    "sorted(generate_best(), key=lambda x: x[1], reverse=True)[0]"
   ]
  },
  {
   "cell_type": "markdown",
   "metadata": {},
   "source": [
    "好了，现在我们实现了自己的第一个AI模型，这个模型能够生成比较接近于人类的语言。"
   ]
  },
  {
   "cell_type": "markdown",
   "metadata": {},
   "source": [
    "Q: 这个模型有什么问题？ 你准备如何提升？ "
   ]
  },
  {
   "cell_type": "markdown",
   "metadata": {},
   "source": [
    "Ans:可能使用的数据集和生成的句子本身的内容相关性不大，感觉判断的不如老师例子里那几个对比的句子那么明显。我觉得可以找一个相关性强一点的数据集重新生成模型进行判断效果可能会好一些。"
   ]
  },
  {
   "cell_type": "markdown",
   "metadata": {},
   "source": [
    "![](https://timgsa.baidu.com/timg?image&quality=80&size=b9999_10000&sec=1561828422005&di=48d19c16afb6acc9180183a6116088ac&imgtype=0&src=http%3A%2F%2Fb-ssl.duitang.com%2Fuploads%2Fitem%2F201807%2F28%2F20180728150843_BECNF.thumb.224_0.jpeg)"
   ]
  }
 ],
 "metadata": {
  "kernelspec": {
   "display_name": "Python 3",
   "language": "python",
   "name": "python3"
  },
  "language_info": {
   "codemirror_mode": {
    "name": "ipython",
    "version": 3
   },
   "file_extension": ".py",
   "mimetype": "text/x-python",
   "name": "python",
   "nbconvert_exporter": "python",
   "pygments_lexer": "ipython3",
   "version": "3.7.3"
  }
 },
 "nbformat": 4,
 "nbformat_minor": 2
}
